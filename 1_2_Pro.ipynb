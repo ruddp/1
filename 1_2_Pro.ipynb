{
  "nbformat": 4,
  "nbformat_minor": 0,
  "metadata": {
    "colab": {
      "provenance": [],
      "authorship_tag": "ABX9TyOAPlwuSTOSHjB9CHajnXcr"
    },
    "kernelspec": {
      "name": "python3",
      "display_name": "Python 3"
    },
    "language_info": {
      "name": "python"
    }
  },
  "cells": [
    {
      "cell_type": "markdown",
      "source": [
        "1. Программа, выводящая числа Фибоначчи до заданного числа:"
      ],
      "metadata": {
        "id": "zGyM7KpL8YTZ"
      }
    },
    {
      "cell_type": "code",
      "source": [
        "n = int(input(\"Введите ограничение последовательности: \"))\n",
        "a, b = 0, 1\n",
        "while a < n:\n",
        "    print(a)\n",
        "    a, b = b, a + b"
      ],
      "metadata": {
        "colab": {
          "base_uri": "https://localhost:8080/"
        },
        "id": "NHqGkULa82O7",
        "outputId": "67b971b6-2bd5-468c-b1e2-b2df6fa770c5"
      },
      "execution_count": null,
      "outputs": [
        {
          "output_type": "stream",
          "name": "stdout",
          "text": [
            "Введите ограничение последовательности: 12\n",
            "0\n",
            "1\n",
            "1\n",
            "2\n",
            "3\n",
            "5\n",
            "8\n"
          ]
        }
      ]
    },
    {
      "cell_type": "markdown",
      "source": [
        "2. Программа, принимающая на вход список чисел и возвращающая только уникальные значения:"
      ],
      "metadata": {
        "id": "-XTuDh5r9PPb"
      }
    },
    {
      "cell_type": "code",
      "source": [
        "def unique_numbers(lst):\n",
        "    return list(set(lst))\n",
        "# Пример использования функции\n",
        "numbers = [1, 2, 3, 3, 4, 5, 5, 6, 6, 7]\n",
        "print(unique_numbers(numbers))"
      ],
      "metadata": {
        "colab": {
          "base_uri": "https://localhost:8080/"
        },
        "id": "q2Y7dn-89fG9",
        "outputId": "069302e1-92bb-4ae4-efbd-952e9a419e3e"
      },
      "execution_count": null,
      "outputs": [
        {
          "output_type": "stream",
          "name": "stdout",
          "text": [
            "[1, 2, 3, 4, 5, 6, 7]\n"
          ]
        }
      ]
    },
    {
      "cell_type": "markdown",
      "source": [
        "3. Программа, переводящая температуру в градусах Фаренгейта в градусы Цельсия."
      ],
      "metadata": {
        "id": "ghiSo-QN-OlT"
      }
    },
    {
      "cell_type": "code",
      "source": [
        "def fahrenheit_to_celsius(fahrenheit):\n",
        "    celsius = (fahrenheit - 32) * 5/9\n",
        "    return celsius\n",
        "fahrenheit_temp = 75\n",
        "celsius_temp = fahrenheit_to_celsius(fahrenheit_temp)\n",
        "print(\"Температура {0} градусов Фаренгейта равна {1:.2f} градусов Цельсия.\".format(fahrenheit_temp, celsius_temp))"
      ],
      "metadata": {
        "colab": {
          "base_uri": "https://localhost:8080/"
        },
        "id": "5tWRou2v-ZFd",
        "outputId": "02098682-4c21-4a8e-ea14-bd0dead8bdea"
      },
      "execution_count": null,
      "outputs": [
        {
          "output_type": "stream",
          "name": "stdout",
          "text": [
            "Температура 75 градусов Фаренгейта равна 23.89 градусов Цельсия.\n"
          ]
        }
      ]
    },
    {
      "cell_type": "markdown",
      "source": [
        "4. Программа, проверяющая является ли строка палиндромом:"
      ],
      "metadata": {
        "id": "_yy5EJdr-vDH"
      }
    },
    {
      "cell_type": "code",
      "source": [
        "def is_palindrome(s):\n",
        "    l = 0\n",
        "    r = len(s) - 1\n",
        "    while l < r:\n",
        "        if s[l] != s[r]:\n",
        "            return False\n",
        "        l = l + 1\n",
        "        r = r - 1\n",
        "    return True\n",
        "string = \"racecar\"\n",
        "if is_palindrome(string):\n",
        "    print(\"{0} является палиндромом\".format(string))\n",
        "else:\n",
        "    print(\"{0} не является палиндромом\".format(string))"
      ],
      "metadata": {
        "colab": {
          "base_uri": "https://localhost:8080/"
        },
        "id": "FwJxcrSo-nOm",
        "outputId": "1114e101-4f29-4d7c-ded7-1b925c125522"
      },
      "execution_count": null,
      "outputs": [
        {
          "output_type": "stream",
          "name": "stdout",
          "text": [
            "racecar является палиндромом\n"
          ]
        }
      ]
    }
  ]
}